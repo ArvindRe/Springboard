{
  "nbformat": 4,
  "nbformat_minor": 0,
  "metadata": {
    "kernelspec": {
      "name": "python3",
      "display_name": "Python 3"
    },
    "colab": {
      "name": "api_data_wrangling_mini_project.ipynb",
      "provenance": [],
      "collapsed_sections": [],
      "include_colab_link": true
    }
  },
  "cells": [
    {
      "cell_type": "markdown",
      "metadata": {
        "id": "view-in-github",
        "colab_type": "text"
      },
      "source": [
        "<a href=\"https://colab.research.google.com/github/ArvindRe/Springboard/blob/master/api_data_wrangling_mini_project.ipynb\" target=\"_parent\"><img src=\"https://colab.research.google.com/assets/colab-badge.svg\" alt=\"Open In Colab\"/></a>"
      ]
    },
    {
      "cell_type": "markdown",
      "metadata": {
        "id": "rP57sLSaZ6b7",
        "colab_type": "text"
      },
      "source": [
        "This exercise will require you to pull some data from the Qunadl API. Qaundl is currently the most widely used aggregator of financial market data."
      ]
    },
    {
      "cell_type": "markdown",
      "metadata": {
        "id": "Z-PC8zoOZ6b9",
        "colab_type": "text"
      },
      "source": [
        "As a first step, you will need to register a free account on the http://www.quandl.com website."
      ]
    },
    {
      "cell_type": "markdown",
      "metadata": {
        "id": "ZihYKm7PZ6b-",
        "colab_type": "text"
      },
      "source": [
        "After you register, you will be provided with a unique API key, that you should store:"
      ]
    },
    {
      "cell_type": "code",
      "metadata": {
        "id": "1_GSqxRMZ6b_",
        "colab_type": "code",
        "colab": {}
      },
      "source": [
        "# Store the API key as a string - according to PEP8, constants are always named in all upper case\n",
        "API_KEY = ''"
      ],
      "execution_count": null,
      "outputs": []
    },
    {
      "cell_type": "markdown",
      "metadata": {
        "id": "mOZW9dLDZ6cF",
        "colab_type": "text"
      },
      "source": [
        "Qaundl has a large number of data sources, but, unfortunately, most of them require a Premium subscription. Still, there are also a good number of free datasets."
      ]
    },
    {
      "cell_type": "markdown",
      "metadata": {
        "id": "go74Y-RWZ6cG",
        "colab_type": "text"
      },
      "source": [
        "For this mini project, we will focus on equities data from the Frankfurt Stock Exhange (FSE), which is available for free. We'll try and analyze the stock prices of a company called Carl Zeiss Meditec, which manufactures tools for eye examinations, as well as medical lasers for laser eye surgery: https://www.zeiss.com/meditec/int/home.html. The company is listed under the stock ticker AFX_X."
      ]
    },
    {
      "cell_type": "markdown",
      "metadata": {
        "id": "PKpVrt8eZ6cH",
        "colab_type": "text"
      },
      "source": [
        "You can find the detailed Quandl API instructions here: https://docs.quandl.com/docs/time-series"
      ]
    },
    {
      "cell_type": "markdown",
      "metadata": {
        "id": "kl4kRv-gZ6cH",
        "colab_type": "text"
      },
      "source": [
        "While there is a dedicated Python package for connecting to the Quandl API, we would prefer that you use the *requests* package, which can be easily downloaded using *pip* or *conda*. You can find the documentation for the package here: http://docs.python-requests.org/en/master/ "
      ]
    },
    {
      "cell_type": "markdown",
      "metadata": {
        "id": "UCRJDtivZ6cI",
        "colab_type": "text"
      },
      "source": [
        "Finally, apart from the *requests* package, you are encouraged to not use any third party Python packages, such as *pandas*, and instead focus on what's available in the Python Standard Library (the *collections* module might come in handy: https://pymotw.com/3/collections/ ).\n",
        "Also, since you won't have access to DataFrames, you are encouraged to us Python's native data structures - preferably dictionaries, though some questions can also be answered using lists.\n",
        "You can read more on these data structures here: https://docs.python.org/3/tutorial/datastructures.html"
      ]
    },
    {
      "cell_type": "markdown",
      "metadata": {
        "id": "gFXe0FjDZ6cI",
        "colab_type": "text"
      },
      "source": [
        "Keep in mind that the JSON responses you will be getting from the API map almost one-to-one to Python's dictionaries. Unfortunately, they can be very nested, so make sure you read up on indexing dictionaries in the documentation provided above."
      ]
    },
    {
      "cell_type": "code",
      "metadata": {
        "id": "IAk_vZZwZ6cJ",
        "colab_type": "code",
        "colab": {}
      },
      "source": [
        "# First, import the relevant modules\n",
        "import requests\n",
        "import numpy as np"
      ],
      "execution_count": null,
      "outputs": []
    },
    {
      "cell_type": "code",
      "metadata": {
        "id": "gv9sAoD4Z6cM",
        "colab_type": "code",
        "colab": {
          "base_uri": "https://localhost:8080/",
          "height": 55
        },
        "outputId": "efae40f5-8e6d-4b7d-cd01-188450bc3e16"
      },
      "source": [
        "# Now, call the Quandl API and pull out a small sample of the data (only one day) to get a glimpse\n",
        "# into the JSON structure that will be returned\n",
        "url=\"https://www.quandl.com/api/v3/datasets/FSE/AFX_X.json\"\n",
        "params = dict( api_key=API_KEY, start_date='2017-01-01',end_date='2017-01-02') #Collecting data for a day\n",
        "res = requests.get(url, params=params)\n",
        "print(res.text)"
      ],
      "execution_count": null,
      "outputs": [
        {
          "output_type": "stream",
          "text": [
            "{\"dataset\":{\"id\":10095370,\"dataset_code\":\"AFX_X\",\"database_code\":\"FSE\",\"name\":\"Carl Zeiss Meditec (AFX_X)\",\"description\":\"Stock Prices for Carl Zeiss Meditec (2020-06-24) from the Frankfurt Stock Exchange.\\u003cbr\\u003e\\u003cbr\\u003eTrading System: Xetra\\u003cbr\\u003e\\u003cbr\\u003eISIN: DE0005313704\",\"refreshed_at\":\"2020-07-08T22:16:18.074Z\",\"newest_available_date\":\"2020-07-08\",\"oldest_available_date\":\"2000-06-07\",\"column_names\":[\"Date\",\"Open\",\"High\",\"Low\",\"Close\",\"Change\",\"Traded Volume\",\"Turnover\",\"Last Price of the Day\",\"Daily Traded Units\",\"Daily Turnover\"],\"frequency\":\"daily\",\"type\":\"Time Series\",\"premium\":false,\"limit\":null,\"transform\":null,\"column_index\":null,\"start_date\":\"2017-01-01\",\"end_date\":\"2017-01-02\",\"data\":[[\"2017-01-02\",34.99,35.94,34.99,35.8,null,44700.0,1590561.0,null,null,null]],\"collapse\":null,\"order\":null,\"database_id\":6129}}\n"
          ],
          "name": "stdout"
        }
      ]
    },
    {
      "cell_type": "code",
      "metadata": {
        "id": "olcAUGWYZ6cQ",
        "colab_type": "code",
        "colab": {
          "base_uri": "https://localhost:8080/",
          "height": 52
        },
        "outputId": "a05dba57-a4fa-4fbb-b481-32aa40f3c6cb"
      },
      "source": [
        "# Inspect the JSON structure of the object you created, and take note of how nested it is,\n",
        "# as well as the overall structure\n",
        "Dict=res.json()  #json() turns into dict?\n",
        "col=Dict['dataset']['column_names']\n",
        "data=Dict['dataset']['data']#[:1]\n",
        "print(\"Column names : \" ,col)  #The u- prefix just means that you have a Unicode string. When you really use the string, it won't appear in your data. \n",
        "print(\"Data : \" ,data)  "
      ],
      "execution_count": null,
      "outputs": [
        {
          "output_type": "stream",
          "text": [
            "Column names :  ['Date', 'Open', 'High', 'Low', 'Close', 'Change', 'Traded Volume', 'Turnover', 'Last Price of the Day', 'Daily Traded Units', 'Daily Turnover']\n",
            "Data :  [['2017-01-02', 34.99, 35.94, 34.99, 35.8, None, 44700.0, 1590561.0, None, None, None]]\n"
          ],
          "name": "stdout"
        }
      ]
    },
    {
      "cell_type": "code",
      "metadata": {
        "id": "i2p7SMNsc2Ep",
        "colab_type": "code",
        "colab": {
          "base_uri": "https://localhost:8080/",
          "height": 745
        },
        "outputId": "dd7a4fa0-5fc0-4c30-93f2-beed36a33f85"
      },
      "source": [
        "print(\"Dictionary output : \")\n",
        "Dict['dataset']"
      ],
      "execution_count": null,
      "outputs": [
        {
          "output_type": "stream",
          "text": [
            "Dictionary output : \n"
          ],
          "name": "stdout"
        },
        {
          "output_type": "execute_result",
          "data": {
            "text/plain": [
              "{'collapse': None,\n",
              " 'column_index': None,\n",
              " 'column_names': ['Date',\n",
              "  'Open',\n",
              "  'High',\n",
              "  'Low',\n",
              "  'Close',\n",
              "  'Change',\n",
              "  'Traded Volume',\n",
              "  'Turnover',\n",
              "  'Last Price of the Day',\n",
              "  'Daily Traded Units',\n",
              "  'Daily Turnover'],\n",
              " 'data': [['2017-01-02',\n",
              "   34.99,\n",
              "   35.94,\n",
              "   34.99,\n",
              "   35.8,\n",
              "   None,\n",
              "   44700.0,\n",
              "   1590561.0,\n",
              "   None,\n",
              "   None,\n",
              "   None]],\n",
              " 'database_code': 'FSE',\n",
              " 'database_id': 6129,\n",
              " 'dataset_code': 'AFX_X',\n",
              " 'description': 'Stock Prices for Carl Zeiss Meditec (2020-06-24) from the Frankfurt Stock Exchange.<br><br>Trading System: Xetra<br><br>ISIN: DE0005313704',\n",
              " 'end_date': '2017-01-02',\n",
              " 'frequency': 'daily',\n",
              " 'id': 10095370,\n",
              " 'limit': None,\n",
              " 'name': 'Carl Zeiss Meditec (AFX_X)',\n",
              " 'newest_available_date': '2020-07-08',\n",
              " 'oldest_available_date': '2000-06-07',\n",
              " 'order': None,\n",
              " 'premium': False,\n",
              " 'refreshed_at': '2020-07-08T22:16:18.074Z',\n",
              " 'start_date': '2017-01-01',\n",
              " 'transform': None,\n",
              " 'type': 'Time Series'}"
            ]
          },
          "metadata": {
            "tags": []
          },
          "execution_count": 135
        }
      ]
    },
    {
      "cell_type": "markdown",
      "metadata": {
        "id": "zeWflBYYZ6cT",
        "colab_type": "text"
      },
      "source": [
        "These are your tasks for this mini project:\n",
        "\n",
        "1. Collect data from the Franfurt Stock Exchange, for the ticker AFX_X, for the whole year 2017 (keep in mind that the date format is YYYY-MM-DD).\n",
        "2. Convert the returned JSON object into a Python dictionary.\n",
        "3. Calculate what the highest and lowest opening prices were for the stock in this period.\n",
        "4. What was the largest change in any one day (based on High and Low price)?\n",
        "5. What was the largest change between any two days (based on Closing Price)?\n",
        "6. What was the average daily trading volume during this year?\n",
        "7. (Optional) What was the median trading volume during this year. (Note: you may need to implement your own function for calculating the median.)"
      ]
    },
    {
      "cell_type": "code",
      "metadata": {
        "id": "NiZOgk-UZ6cT",
        "colab_type": "code",
        "colab": {
          "base_uri": "https://localhost:8080/",
          "height": 211
        },
        "outputId": "26722370-ad1b-4877-fb65-01e687a5839b"
      },
      "source": [
        "#1\n",
        "params = dict( api_key=API_KEY, start_date='2017-01-01',end_date='2018-01-01') #Collecting data for 2017\n",
        "res = requests.get(url, params=params)\n",
        "#2\n",
        "j=res.json()\n",
        "print(type(j))\n",
        "\n",
        "#3\n",
        "O=[]\n",
        "for i in range(0,len(j['dataset']['data'])):\n",
        "  O.append(j['dataset']['data'][i][1])    #1 for index of opening rate\n",
        "#print(O)\n",
        "#print(\"List has 'None' strings\")  #NoneType\n",
        "O=[float(i) for i in O if i]  #removing None  , compressing: check for True values and construct the new filtered list\n",
        "#print('None removed')\n",
        "print(f\"Max opening value : {max(O)}   Min opening value : {min(O)}\") \n",
        "C=[]\n",
        "C=[list[4] for list in j['dataset']['data']]  #Writing the for loop(used above) in a concise manner ,#4 for index of closing rate\n",
        "C=[i for i in C if i]  #removing None if any as above\n",
        "print(f\"Max closing value : {max(C)}   Min closing value : {min(C)}\") \n",
        "\n",
        "#4\n",
        "Change_1=C=[list[5] for list in j['dataset']['data']]\n",
        "print(f\"Change column : {Change_1}\")\n",
        "#Creating a list using High and Low columns\n",
        "print(\"Calculating change using High and Low: \")\n",
        "Change_1=[(list[2] - list[3]) for list in j['dataset']['data'] ]   #2 and 3 for the day's High and Low respectively, \n",
        "#[if list[1] is not None  ] # add to for loop for filering Open column for None(else nonetype error)\n",
        "print(f\"Largest Change in a day (between High and Low rates for the day) : {max(Change_1)}\")\n",
        "#print((Change_1))\n",
        "\n",
        "#5\n",
        "Change_2=[(list[4]) for list in j['dataset']['data']]\n",
        "#print(Change_2)\n",
        "Change_2=abs(np.diff(Change_2))   #numpy to calculate diff between consecutive , taking absolute value for largest change can be +ve or -ve\n",
        "print(f\"Largest Change between consecutive days (between closing values) : {max(Change_2)}\")\n",
        "Change_2=[(list[4]) for list in j['dataset']['data']]   \n",
        "print(f\"Largest Change between any two days closing values : {max(Change_2)}-{min(Change_2)}={max(Change_2)-min(Change_2)}\")   #Diff between any 2 days\n",
        "\n",
        "#6\n",
        "from statistics import mean, median\n",
        "TV=[(list[6]) for list in j['dataset']['data']]  #6 for trading volume\n",
        "print(f\"Average trading volume : {mean(TV)}\")\n",
        "\n",
        "#7\n",
        "print(f\"Median trading volume : {median(TV)}\")"
      ],
      "execution_count": null,
      "outputs": [
        {
          "output_type": "stream",
          "text": [
            "<class 'dict'>\n",
            "Max opening value : 53.11   Min opening value : 34.0\n",
            "Max closing value : 53.09   Min closing value : 34.06\n",
            "Change column : [None, None, None, None, None, None, None, None, None, None, None, None, None, None, None, None, None, None, None, None, None, None, None, None, None, None, None, None, None, None, None, None, None, None, None, None, None, None, None, None, None, None, None, None, None, None, None, None, None, None, None, None, None, None, None, None, None, None, None, None, None, None, None, None, None, None, None, None, None, None, None, None, None, None, None, None, None, None, None, None, None, None, None, None, None, None, None, None, None, None, None, None, None, None, None, None, None, None, None, None, None, None, None, None, None, None, None, None, None, None, None, None, None, None, None, None, None, None, None, None, None, None, None, None, None, None, None, None, None, None, None, None, None, None, None, None, None, None, None, None, None, None, None, None, None, None, None, None, None, None, None, None, None, None, None, None, None, None, None, None, None, None, None, None, None, None, None, None, None, -0.44, None, None, None, None, None, None, None, None, None, None, None, None, None, None, None, None, None, None, None, None, None, None, None, None, None, None, None, None, None, None, None, None, None, None, None, None, None, None, None, None, None, None, None, None, None, None, None, None, None, None, None, None, None, None, None, None, None, None, None, None, None, None, None, None, None, None, None, None, None, None, None, None, None, None, None, None, None, None, None, None, None, None, None, None, None]\n",
            "Calculating change using High and Low: \n",
            "Largest Change in a day (between High and Low rates for the day) : 2.8100000000000023\n",
            "Largest Change between consecutive days (between closing values) : 2.559999999999995\n",
            "Largest Change between any two days closing values : 53.09-34.06=19.03\n",
            "Average trading volume : 89124.33725490196\n",
            "Median trading volume : 76286.0\n"
          ],
          "name": "stdout"
        }
      ]
    }
  ]
}