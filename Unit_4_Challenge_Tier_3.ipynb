{
  "nbformat": 4,
  "nbformat_minor": 0,
  "metadata": {
    "kernelspec": {
      "display_name": "Python 3",
      "language": "python",
      "name": "python3"
    },
    "language_info": {
      "codemirror_mode": {
        "name": "ipython",
        "version": 3
      },
      "file_extension": ".py",
      "mimetype": "text/x-python",
      "name": "python",
      "nbconvert_exporter": "python",
      "pygments_lexer": "ipython3",
      "version": "3.7.3"
    },
    "colab": {
      "name": "Unit 4 Challenge - Tier 3.ipynb",
      "provenance": [],
      "collapsed_sections": [],
      "include_colab_link": true
    }
  },
  "cells": [
    {
      "cell_type": "markdown",
      "metadata": {
        "id": "view-in-github",
        "colab_type": "text"
      },
      "source": [
        "<a href=\"https://colab.research.google.com/github/ArvindRe/Springboard/blob/master/Unit_4_Challenge_Tier_3.ipynb\" target=\"_parent\"><img src=\"https://colab.research.google.com/assets/colab-badge.svg\" alt=\"Open In Colab\"/></a>"
      ]
    },
    {
      "cell_type": "markdown",
      "metadata": {
        "id": "Tia3MP1SJpgj",
        "colab_type": "text"
      },
      "source": [
        "# Springboard Data Science Career Track Unit 4 Challenge - Tier 3 Complete\n",
        "\n",
        "## Objectives\n",
        "Hey! Great job getting through those challenging DataCamp courses. You're learning a lot in a short span of time. \n",
        "\n",
        "In this notebook, you're going to apply the skills you've been learning, bridging the gap between the controlled environment of DataCamp and the *slightly* messier work that data scientists do with actual datasets!\n",
        "\n",
        "Here’s the mystery we’re going to solve: ***which boroughs of London have seen the greatest increase in housing prices, on average, over the last two decades?***\n",
        "\n",
        "\n",
        "A borough is just a fancy word for district. You may be familiar with the five boroughs of New York… well, there are 32 boroughs within Greater London [(here's some info for the curious)](https://en.wikipedia.org/wiki/London_boroughs). Some of them are more desirable areas to live in, and the data will reflect that with a greater rise in housing prices.\n",
        "\n",
        "***This is the Tier 3 notebook, which means it's not filled in at all: we'll just give you the skeleton of a project, the brief and the data. It's up to you to play around with it and see what you can find out! Good luck! If you struggle, feel free to look at easier tiers for help; but try to dip in and out of them, as the more independent work you do, the better it is for your learning!***\n",
        "\n",
        "This challenge will make use of only what you learned in the following DataCamp courses: \n",
        "- Prework courses (Introduction to Python for Data Science, Intermediate Python for Data Science)\n",
        "- Data Types for Data Science\n",
        "- Python Data Science Toolbox (Part One) \n",
        "- pandas Foundations\n",
        "- Manipulating DataFrames with pandas\n",
        "- Merging DataFrames with pandas\n",
        "\n",
        "Of the tools, techniques and concepts in the above DataCamp courses, this challenge should require the application of the following: \n",
        "- **pandas**\n",
        "    - **data ingestion and inspection** (pandas Foundations, Module One) \n",
        "    - **exploratory data analysis** (pandas Foundations, Module Two)\n",
        "    - **tidying and cleaning** (Manipulating DataFrames with pandas, Module Three) \n",
        "    - **transforming DataFrames** (Manipulating DataFrames with pandas, Module One)\n",
        "    - **subsetting DataFrames with lists** (Manipulating DataFrames with pandas, Module One) \n",
        "    - **filtering DataFrames** (Manipulating DataFrames with pandas, Module One) \n",
        "    - **grouping data** (Manipulating DataFrames with pandas, Module Four) \n",
        "    - **melting data** (Manipulating DataFrames with pandas, Module Three) \n",
        "    - **advanced indexing** (Manipulating DataFrames with pandas, Module Four) \n",
        "- **matplotlib** (Intermediate Python for Data Science, Module One)\n",
        "- **fundamental data types** (Data Types for Data Science, Module One) \n",
        "- **dictionaries** (Intermediate Python for Data Science, Module Two)\n",
        "- **handling dates and times** (Data Types for Data Science, Module Four)\n",
        "- **function definition** (Python Data Science Toolbox - Part One, Module One)\n",
        "- **default arguments, variable length, and scope** (Python Data Science Toolbox - Part One, Module Two) \n",
        "- **lambda functions and error handling** (Python Data Science Toolbox - Part One, Module Four) "
      ]
    },
    {
      "cell_type": "code",
      "metadata": {
        "id": "YdvaX7TAGMrR",
        "colab_type": "code",
        "colab": {}
      },
      "source": [
        ""
      ],
      "execution_count": 0,
      "outputs": []
    },
    {
      "cell_type": "code",
      "metadata": {
        "id": "M8jIb2ZfGLQi",
        "colab_type": "code",
        "colab": {}
      },
      "source": [
        ""
      ],
      "execution_count": 0,
      "outputs": []
    },
    {
      "cell_type": "markdown",
      "metadata": {
        "id": "Ipgd2nV8Jpgl",
        "colab_type": "text"
      },
      "source": [
        "## The Data Science Pipeline\n",
        "\n",
        "This is Tier Three, so we'll get you started. But after that, it's all in your hands! When you feel done with your investigations, look back over what you've accomplished, and prepare a quick presentation of your findings for the next mentor meeting. \n",
        "\n",
        "Data Science is magical. In this case study, you'll get to apply some complex machine learning algorithms. But as  [David Spiegelhalter](https://www.youtube.com/watch?v=oUs1uvsz0Ok) reminds us, there is no substitute for simply **taking a really, really good look at the data.** Sometimes, this is all we need to answer our question.\n",
        "\n",
        "Data Science projects generally adhere to the four stages of Data Science Pipeline:\n",
        "1. Sourcing and loading \n",
        "2. Cleaning, transforming, and visualizing \n",
        "3. Modeling \n",
        "4. Evaluating and concluding \n"
      ]
    },
    {
      "cell_type": "markdown",
      "metadata": {
        "id": "zswDqbefJpgm",
        "colab_type": "text"
      },
      "source": [
        "### 1. Sourcing and Loading \n",
        "\n",
        "Any Data Science project kicks off by importing  ***pandas***. The documentation of this wonderful library can be found [here](https://pandas.pydata.org/). As you've seen, pandas is conveniently connected to the [Numpy](http://www.numpy.org/) and [Matplotlib](https://matplotlib.org/) libraries. \n",
        "\n",
        "***Hint:*** This part of the data science pipeline will test those skills you acquired in the pandas Foundations course, Module One. "
      ]
    },
    {
      "cell_type": "markdown",
      "metadata": {
        "id": "aEau5nEvJpgm",
        "colab_type": "text"
      },
      "source": [
        "#### 1.1. Importing Libraries"
      ]
    },
    {
      "cell_type": "code",
      "metadata": {
        "id": "7Bt_Q_oPJpgn",
        "colab_type": "code",
        "colab": {}
      },
      "source": [
        "# Let's import the pandas, numpy libraries as pd, and np respectively. \n",
        "import pandas as pd\n",
        "import numpy as np\n",
        "\n",
        "# Load the pyplot collection of functions from matplotlib, as plt \n",
        "import matplotlib.pyplot as plt"
      ],
      "execution_count": 0,
      "outputs": []
    },
    {
      "cell_type": "markdown",
      "metadata": {
        "id": "koUrawxsJpgq",
        "colab_type": "text"
      },
      "source": [
        "#### 1.2.  Loading the data\n",
        "Your data comes from the [London Datastore](https://data.london.gov.uk/): a free, open-source data-sharing portal for London-oriented datasets. "
      ]
    },
    {
      "cell_type": "code",
      "metadata": {
        "id": "AiLiD4v3Jpgr",
        "colab_type": "code",
        "colab": {}
      },
      "source": [
        "# First, make a variable called url_LondonHousePrices, and assign it the following link, enclosed in quotation-marks as a string:\n",
        "# https://data.london.gov.uk/download/uk-house-price-index/70ac0766-8902-4eb5-aab5-01951aaed773/UK%20House%20price%20index.xls\n",
        "\n",
        "url_LondonHousePrices = \"https://data.london.gov.uk/download/uk-house-price-index/70ac0766-8902-4eb5-aab5-01951aaed773/UK%20House%20price%20index.xls\"\n",
        "\n",
        "# The dataset we're interested in contains the Average prices of the houses, and is actually on a particular sheet of the Excel file. \n",
        "# As a result, we need to specify the sheet name in the read_excel() method.\n",
        "# Put this data into a variable called properties.  \n",
        "properties = pd.read_excel(url_LondonHousePrices, sheet_name='Average price', index_col= None)"
      ],
      "execution_count": 0,
      "outputs": []
    },
    {
      "cell_type": "markdown",
      "metadata": {
        "id": "POukEJXgJpgu",
        "colab_type": "text"
      },
      "source": [
        "### 2. Cleaning, transforming, and visualizing\n",
        "This second stage is arguably the most important part of any Data Science project. The first thing to do is take a proper look at the data. Cleaning forms the majority of this stage, and can be done both before or after Transformation.\n",
        "\n",
        "The end goal of data cleaning is to have tidy data. When data is tidy: \n",
        "\n",
        "1. Each variable has a column.\n",
        "2. Each observation forms a row.\n",
        "\n",
        "Keep the end goal in mind as you move through this process, every step will take you closer. \n",
        "\n",
        "\n",
        "\n",
        "***Hint:*** This part of the data science pipeline should test those skills you acquired in: \n",
        "- Intermediate Python for data science, all modules.\n",
        "- pandas Foundations, all modules. \n",
        "- Manipulating DataFrames with pandas, all modules.\n",
        "- Data Types for Data Science, Module Four.\n",
        "- Python Data Science Toolbox - Part One, all modules"
      ]
    },
    {
      "cell_type": "markdown",
      "metadata": {
        "id": "Te0Q548tnzZa",
        "colab_type": "text"
      },
      "source": [
        "**2.1. Exploring your data** \n",
        "\n",
        "Think about your pandas functions for checking out a dataframe. "
      ]
    },
    {
      "cell_type": "code",
      "metadata": {
        "id": "Rxirxw_qoAJa",
        "colab_type": "code",
        "outputId": "85ed2f29-caa0-49c6-ace1-e4eee150e565",
        "colab": {
          "base_uri": "https://localhost:8080/",
          "height": 316
        }
      },
      "source": [
        "properties.head()"
      ],
      "execution_count": 32,
      "outputs": [
        {
          "output_type": "execute_result",
          "data": {
            "text/html": [
              "<div>\n",
              "<style scoped>\n",
              "    .dataframe tbody tr th:only-of-type {\n",
              "        vertical-align: middle;\n",
              "    }\n",
              "\n",
              "    .dataframe tbody tr th {\n",
              "        vertical-align: top;\n",
              "    }\n",
              "\n",
              "    .dataframe thead th {\n",
              "        text-align: right;\n",
              "    }\n",
              "</style>\n",
              "<table border=\"1\" class=\"dataframe\">\n",
              "  <thead>\n",
              "    <tr style=\"text-align: right;\">\n",
              "      <th></th>\n",
              "      <th>Unnamed: 0</th>\n",
              "      <th>City of London</th>\n",
              "      <th>Barking &amp; Dagenham</th>\n",
              "      <th>Barnet</th>\n",
              "      <th>Bexley</th>\n",
              "      <th>Brent</th>\n",
              "      <th>Bromley</th>\n",
              "      <th>Camden</th>\n",
              "      <th>Croydon</th>\n",
              "      <th>Ealing</th>\n",
              "      <th>Enfield</th>\n",
              "      <th>Greenwich</th>\n",
              "      <th>Hackney</th>\n",
              "      <th>Hammersmith &amp; Fulham</th>\n",
              "      <th>Haringey</th>\n",
              "      <th>Harrow</th>\n",
              "      <th>Havering</th>\n",
              "      <th>Hillingdon</th>\n",
              "      <th>Hounslow</th>\n",
              "      <th>Islington</th>\n",
              "      <th>Kensington &amp; Chelsea</th>\n",
              "      <th>Kingston upon Thames</th>\n",
              "      <th>Lambeth</th>\n",
              "      <th>Lewisham</th>\n",
              "      <th>Merton</th>\n",
              "      <th>Newham</th>\n",
              "      <th>Redbridge</th>\n",
              "      <th>Richmond upon Thames</th>\n",
              "      <th>Southwark</th>\n",
              "      <th>Sutton</th>\n",
              "      <th>Tower Hamlets</th>\n",
              "      <th>Waltham Forest</th>\n",
              "      <th>Wandsworth</th>\n",
              "      <th>Westminster</th>\n",
              "      <th>Unnamed: 34</th>\n",
              "      <th>Inner London</th>\n",
              "      <th>Outer London</th>\n",
              "      <th>Unnamed: 37</th>\n",
              "      <th>NORTH EAST</th>\n",
              "      <th>NORTH WEST</th>\n",
              "      <th>YORKS &amp; THE HUMBER</th>\n",
              "      <th>EAST MIDLANDS</th>\n",
              "      <th>WEST MIDLANDS</th>\n",
              "      <th>EAST OF ENGLAND</th>\n",
              "      <th>LONDON</th>\n",
              "      <th>SOUTH EAST</th>\n",
              "      <th>SOUTH WEST</th>\n",
              "      <th>Unnamed: 47</th>\n",
              "      <th>England</th>\n",
              "    </tr>\n",
              "  </thead>\n",
              "  <tbody>\n",
              "    <tr>\n",
              "      <th>0</th>\n",
              "      <td>NaT</td>\n",
              "      <td>E09000001</td>\n",
              "      <td>E09000002</td>\n",
              "      <td>E09000003</td>\n",
              "      <td>E09000004</td>\n",
              "      <td>E09000005</td>\n",
              "      <td>E09000006</td>\n",
              "      <td>E09000007</td>\n",
              "      <td>E09000008</td>\n",
              "      <td>E09000009</td>\n",
              "      <td>E09000010</td>\n",
              "      <td>E09000011</td>\n",
              "      <td>E09000012</td>\n",
              "      <td>E09000013</td>\n",
              "      <td>E09000014</td>\n",
              "      <td>E09000015</td>\n",
              "      <td>E09000016</td>\n",
              "      <td>E09000017</td>\n",
              "      <td>E09000018</td>\n",
              "      <td>E09000019</td>\n",
              "      <td>E09000020</td>\n",
              "      <td>E09000021</td>\n",
              "      <td>E09000022</td>\n",
              "      <td>E09000023</td>\n",
              "      <td>E09000024</td>\n",
              "      <td>E09000025</td>\n",
              "      <td>E09000026</td>\n",
              "      <td>E09000027</td>\n",
              "      <td>E09000028</td>\n",
              "      <td>E09000029</td>\n",
              "      <td>E09000030</td>\n",
              "      <td>E09000031</td>\n",
              "      <td>E09000032</td>\n",
              "      <td>E09000033</td>\n",
              "      <td>NaN</td>\n",
              "      <td>E13000001</td>\n",
              "      <td>E13000002</td>\n",
              "      <td>NaN</td>\n",
              "      <td>E12000001</td>\n",
              "      <td>E12000002</td>\n",
              "      <td>E12000003</td>\n",
              "      <td>E12000004</td>\n",
              "      <td>E12000005</td>\n",
              "      <td>E12000006</td>\n",
              "      <td>E12000007</td>\n",
              "      <td>E12000008</td>\n",
              "      <td>E12000009</td>\n",
              "      <td>NaN</td>\n",
              "      <td>E92000001</td>\n",
              "    </tr>\n",
              "    <tr>\n",
              "      <th>1</th>\n",
              "      <td>1995-01-01</td>\n",
              "      <td>91449</td>\n",
              "      <td>50460.2</td>\n",
              "      <td>93284.5</td>\n",
              "      <td>64958.1</td>\n",
              "      <td>71306.6</td>\n",
              "      <td>81671.5</td>\n",
              "      <td>120933</td>\n",
              "      <td>69158.2</td>\n",
              "      <td>79885.9</td>\n",
              "      <td>72514.7</td>\n",
              "      <td>62300.1</td>\n",
              "      <td>61296.5</td>\n",
              "      <td>124903</td>\n",
              "      <td>76287.6</td>\n",
              "      <td>84769.5</td>\n",
              "      <td>68000.1</td>\n",
              "      <td>73834.8</td>\n",
              "      <td>72231.7</td>\n",
              "      <td>92516.5</td>\n",
              "      <td>182695</td>\n",
              "      <td>80875.8</td>\n",
              "      <td>67771</td>\n",
              "      <td>60491.3</td>\n",
              "      <td>82070.6</td>\n",
              "      <td>53539.3</td>\n",
              "      <td>72189.6</td>\n",
              "      <td>109326</td>\n",
              "      <td>67885.2</td>\n",
              "      <td>71537</td>\n",
              "      <td>59865.2</td>\n",
              "      <td>61319.4</td>\n",
              "      <td>88559</td>\n",
              "      <td>133025</td>\n",
              "      <td>NaN</td>\n",
              "      <td>78252</td>\n",
              "      <td>72958.8</td>\n",
              "      <td>NaN</td>\n",
              "      <td>42076.4</td>\n",
              "      <td>43958.5</td>\n",
              "      <td>44803.4</td>\n",
              "      <td>45544.5</td>\n",
              "      <td>48527.5</td>\n",
              "      <td>56701.6</td>\n",
              "      <td>74435.8</td>\n",
              "      <td>64018.9</td>\n",
              "      <td>54705.2</td>\n",
              "      <td>NaN</td>\n",
              "      <td>53202.8</td>\n",
              "    </tr>\n",
              "    <tr>\n",
              "      <th>2</th>\n",
              "      <td>1995-02-01</td>\n",
              "      <td>82202.8</td>\n",
              "      <td>51085.8</td>\n",
              "      <td>93190.2</td>\n",
              "      <td>64787.9</td>\n",
              "      <td>72022.3</td>\n",
              "      <td>81657.6</td>\n",
              "      <td>119509</td>\n",
              "      <td>68951.1</td>\n",
              "      <td>80897.1</td>\n",
              "      <td>73155.2</td>\n",
              "      <td>60993.3</td>\n",
              "      <td>63187.1</td>\n",
              "      <td>122088</td>\n",
              "      <td>78901.2</td>\n",
              "      <td>83396.1</td>\n",
              "      <td>69393.5</td>\n",
              "      <td>75031.1</td>\n",
              "      <td>71051.6</td>\n",
              "      <td>94342.4</td>\n",
              "      <td>182345</td>\n",
              "      <td>81230.1</td>\n",
              "      <td>65381.5</td>\n",
              "      <td>60869.3</td>\n",
              "      <td>79982.7</td>\n",
              "      <td>53153.9</td>\n",
              "      <td>72141.6</td>\n",
              "      <td>111103</td>\n",
              "      <td>64799.1</td>\n",
              "      <td>70893.2</td>\n",
              "      <td>62318.5</td>\n",
              "      <td>60252.1</td>\n",
              "      <td>88641</td>\n",
              "      <td>131468</td>\n",
              "      <td>NaN</td>\n",
              "      <td>75885.7</td>\n",
              "      <td>72937.9</td>\n",
              "      <td>NaN</td>\n",
              "      <td>42572</td>\n",
              "      <td>43925.4</td>\n",
              "      <td>44528.8</td>\n",
              "      <td>46051.6</td>\n",
              "      <td>49341.3</td>\n",
              "      <td>56593.6</td>\n",
              "      <td>72777.9</td>\n",
              "      <td>63715</td>\n",
              "      <td>54356.1</td>\n",
              "      <td>NaN</td>\n",
              "      <td>53096.2</td>\n",
              "    </tr>\n",
              "    <tr>\n",
              "      <th>3</th>\n",
              "      <td>1995-03-01</td>\n",
              "      <td>79120.7</td>\n",
              "      <td>51269</td>\n",
              "      <td>92247.5</td>\n",
              "      <td>64367.5</td>\n",
              "      <td>72015.8</td>\n",
              "      <td>81449.3</td>\n",
              "      <td>120282</td>\n",
              "      <td>68712.4</td>\n",
              "      <td>81379.9</td>\n",
              "      <td>72190.4</td>\n",
              "      <td>61377.8</td>\n",
              "      <td>63593.3</td>\n",
              "      <td>120636</td>\n",
              "      <td>78521.9</td>\n",
              "      <td>83416.2</td>\n",
              "      <td>69368</td>\n",
              "      <td>74188.7</td>\n",
              "      <td>72098</td>\n",
              "      <td>93465.9</td>\n",
              "      <td>182879</td>\n",
              "      <td>81111.5</td>\n",
              "      <td>66336.5</td>\n",
              "      <td>60288</td>\n",
              "      <td>80661.7</td>\n",
              "      <td>53458.3</td>\n",
              "      <td>72501.4</td>\n",
              "      <td>107325</td>\n",
              "      <td>65763.3</td>\n",
              "      <td>70306.8</td>\n",
              "      <td>63938.7</td>\n",
              "      <td>60871.1</td>\n",
              "      <td>87124.8</td>\n",
              "      <td>132260</td>\n",
              "      <td>NaN</td>\n",
              "      <td>76591.6</td>\n",
              "      <td>72714.5</td>\n",
              "      <td>NaN</td>\n",
              "      <td>42369.7</td>\n",
              "      <td>44434.9</td>\n",
              "      <td>45200.5</td>\n",
              "      <td>45383.8</td>\n",
              "      <td>49442.2</td>\n",
              "      <td>56171.2</td>\n",
              "      <td>73896.8</td>\n",
              "      <td>64113.6</td>\n",
              "      <td>53583.1</td>\n",
              "      <td>NaN</td>\n",
              "      <td>53201.3</td>\n",
              "    </tr>\n",
              "    <tr>\n",
              "      <th>4</th>\n",
              "      <td>1995-04-01</td>\n",
              "      <td>77101.2</td>\n",
              "      <td>53133.5</td>\n",
              "      <td>90762.9</td>\n",
              "      <td>64277.7</td>\n",
              "      <td>72965.6</td>\n",
              "      <td>81124.4</td>\n",
              "      <td>120098</td>\n",
              "      <td>68610</td>\n",
              "      <td>82188.9</td>\n",
              "      <td>71442.9</td>\n",
              "      <td>61927.7</td>\n",
              "      <td>65139.6</td>\n",
              "      <td>121425</td>\n",
              "      <td>79545.6</td>\n",
              "      <td>83567.9</td>\n",
              "      <td>69444.3</td>\n",
              "      <td>73911.4</td>\n",
              "      <td>71890.3</td>\n",
              "      <td>93344.5</td>\n",
              "      <td>184177</td>\n",
              "      <td>81672.8</td>\n",
              "      <td>66388.8</td>\n",
              "      <td>59471</td>\n",
              "      <td>79990.5</td>\n",
              "      <td>54479.8</td>\n",
              "      <td>72228.6</td>\n",
              "      <td>106875</td>\n",
              "      <td>63073.6</td>\n",
              "      <td>69411.9</td>\n",
              "      <td>66233.2</td>\n",
              "      <td>60971.4</td>\n",
              "      <td>87026</td>\n",
              "      <td>133370</td>\n",
              "      <td>NaN</td>\n",
              "      <td>76851.6</td>\n",
              "      <td>72591.9</td>\n",
              "      <td>NaN</td>\n",
              "      <td>42095.8</td>\n",
              "      <td>44267.8</td>\n",
              "      <td>45614.3</td>\n",
              "      <td>46124.2</td>\n",
              "      <td>49455.9</td>\n",
              "      <td>56567.9</td>\n",
              "      <td>74455.3</td>\n",
              "      <td>64623.2</td>\n",
              "      <td>54786</td>\n",
              "      <td>NaN</td>\n",
              "      <td>53590.9</td>\n",
              "    </tr>\n",
              "  </tbody>\n",
              "</table>\n",
              "</div>"
            ],
            "text/plain": [
              "  Unnamed: 0 City of London  ... Unnamed: 47    England\n",
              "0        NaT      E09000001  ...         NaN  E92000001\n",
              "1 1995-01-01          91449  ...         NaN    53202.8\n",
              "2 1995-02-01        82202.8  ...         NaN    53096.2\n",
              "3 1995-03-01        79120.7  ...         NaN    53201.3\n",
              "4 1995-04-01        77101.2  ...         NaN    53590.9\n",
              "\n",
              "[5 rows x 49 columns]"
            ]
          },
          "metadata": {
            "tags": []
          },
          "execution_count": 32
        }
      ]
    },
    {
      "cell_type": "markdown",
      "metadata": {
        "id": "tE9Sqt9-oAta",
        "colab_type": "text"
      },
      "source": [
        "**2.2. Cleaning the data**\n",
        "\n",
        "You might find you need to transpose your dataframe, check out what its row indexes are, and reset the index. You  also might find you need to assign the values of the first row to your column headings  . (Hint: recall the .columns feature of DataFrames, as well as the iloc[] method).\n",
        "\n",
        "Don't be afraid to use StackOverflow for help  with this."
      ]
    },
    {
      "cell_type": "code",
      "metadata": {
        "id": "cdAu1A3YoH_r",
        "colab_type": "code",
        "colab": {}
      },
      "source": [
        "properties=properties.transpose()\n"
      ],
      "execution_count": 0,
      "outputs": []
    },
    {
      "cell_type": "code",
      "metadata": {
        "id": "gcSbv2fPqkDy",
        "colab_type": "code",
        "colab": {}
      },
      "source": [
        "properties=properties.reset_index()"
      ],
      "execution_count": 0,
      "outputs": []
    },
    {
      "cell_type": "code",
      "metadata": {
        "id": "xDWo4tH6RDFw",
        "colab_type": "code",
        "colab": {}
      },
      "source": [
        "properties.iloc[0,1]='ZipCode'\n",
        "properties.iloc[0,0]='Borough'"
      ],
      "execution_count": 0,
      "outputs": []
    },
    {
      "cell_type": "code",
      "metadata": {
        "id": "6zF5dgqWss1W",
        "colab_type": "code",
        "colab": {}
      },
      "source": [
        "#properties.head()\n",
        "properties.columns=properties.iloc[0]\n",
        "properties=properties.iloc[1:]"
      ],
      "execution_count": 0,
      "outputs": []
    },
    {
      "cell_type": "markdown",
      "metadata": {
        "id": "o1uLbJAsoIjK",
        "colab_type": "text"
      },
      "source": [
        "**2.3. Cleaning the data (part 2)**\n",
        "\n",
        "You might we have to **rename** a couple columns. How do you do this? The clue's pretty bold..."
      ]
    },
    {
      "cell_type": "code",
      "metadata": {
        "id": "GKkmn1AnoVZS",
        "colab_type": "code",
        "outputId": "91413373-2bc5-4a9f-e05b-58047e1e54c2",
        "colab": {
          "base_uri": "https://localhost:8080/",
          "height": 311
        }
      },
      "source": [
        "properties.head()#.columns\n",
        "#properties.rename(columns = {'NaT':'Postcode'},inplace=True)\n"
      ],
      "execution_count": 37,
      "outputs": [
        {
          "output_type": "execute_result",
          "data": {
            "text/html": [
              "<div>\n",
              "<style scoped>\n",
              "    .dataframe tbody tr th:only-of-type {\n",
              "        vertical-align: middle;\n",
              "    }\n",
              "\n",
              "    .dataframe tbody tr th {\n",
              "        vertical-align: top;\n",
              "    }\n",
              "\n",
              "    .dataframe thead th {\n",
              "        text-align: right;\n",
              "    }\n",
              "</style>\n",
              "<table border=\"1\" class=\"dataframe\">\n",
              "  <thead>\n",
              "    <tr style=\"text-align: right;\">\n",
              "      <th></th>\n",
              "      <th>Borough</th>\n",
              "      <th>ZipCode</th>\n",
              "      <th>1995-01-01 00:00:00</th>\n",
              "      <th>1995-02-01 00:00:00</th>\n",
              "      <th>1995-03-01 00:00:00</th>\n",
              "      <th>1995-04-01 00:00:00</th>\n",
              "      <th>1995-05-01 00:00:00</th>\n",
              "      <th>1995-06-01 00:00:00</th>\n",
              "      <th>1995-07-01 00:00:00</th>\n",
              "      <th>1995-08-01 00:00:00</th>\n",
              "      <th>1995-09-01 00:00:00</th>\n",
              "      <th>1995-10-01 00:00:00</th>\n",
              "      <th>1995-11-01 00:00:00</th>\n",
              "      <th>1995-12-01 00:00:00</th>\n",
              "      <th>1996-01-01 00:00:00</th>\n",
              "      <th>1996-02-01 00:00:00</th>\n",
              "      <th>1996-03-01 00:00:00</th>\n",
              "      <th>1996-04-01 00:00:00</th>\n",
              "      <th>1996-05-01 00:00:00</th>\n",
              "      <th>1996-06-01 00:00:00</th>\n",
              "      <th>1996-07-01 00:00:00</th>\n",
              "      <th>1996-08-01 00:00:00</th>\n",
              "      <th>1996-09-01 00:00:00</th>\n",
              "      <th>1996-10-01 00:00:00</th>\n",
              "      <th>1996-11-01 00:00:00</th>\n",
              "      <th>1996-12-01 00:00:00</th>\n",
              "      <th>1997-01-01 00:00:00</th>\n",
              "      <th>1997-02-01 00:00:00</th>\n",
              "      <th>1997-03-01 00:00:00</th>\n",
              "      <th>1997-04-01 00:00:00</th>\n",
              "      <th>1997-05-01 00:00:00</th>\n",
              "      <th>1997-06-01 00:00:00</th>\n",
              "      <th>1997-07-01 00:00:00</th>\n",
              "      <th>1997-08-01 00:00:00</th>\n",
              "      <th>1997-09-01 00:00:00</th>\n",
              "      <th>1997-10-01 00:00:00</th>\n",
              "      <th>1997-11-01 00:00:00</th>\n",
              "      <th>1997-12-01 00:00:00</th>\n",
              "      <th>1998-01-01 00:00:00</th>\n",
              "      <th>1998-02-01 00:00:00</th>\n",
              "      <th>...</th>\n",
              "      <th>2016-11-01 00:00:00</th>\n",
              "      <th>2016-12-01 00:00:00</th>\n",
              "      <th>2017-01-01 00:00:00</th>\n",
              "      <th>2017-02-01 00:00:00</th>\n",
              "      <th>2017-03-01 00:00:00</th>\n",
              "      <th>2017-04-01 00:00:00</th>\n",
              "      <th>2017-05-01 00:00:00</th>\n",
              "      <th>2017-06-01 00:00:00</th>\n",
              "      <th>2017-07-01 00:00:00</th>\n",
              "      <th>2017-08-01 00:00:00</th>\n",
              "      <th>2017-09-01 00:00:00</th>\n",
              "      <th>2017-10-01 00:00:00</th>\n",
              "      <th>2017-11-01 00:00:00</th>\n",
              "      <th>2017-12-01 00:00:00</th>\n",
              "      <th>2018-01-01 00:00:00</th>\n",
              "      <th>2018-02-01 00:00:00</th>\n",
              "      <th>2018-03-01 00:00:00</th>\n",
              "      <th>2018-04-01 00:00:00</th>\n",
              "      <th>2018-05-01 00:00:00</th>\n",
              "      <th>2018-06-01 00:00:00</th>\n",
              "      <th>2018-07-01 00:00:00</th>\n",
              "      <th>2018-08-01 00:00:00</th>\n",
              "      <th>2018-09-01 00:00:00</th>\n",
              "      <th>2018-10-01 00:00:00</th>\n",
              "      <th>2018-11-01 00:00:00</th>\n",
              "      <th>2018-12-01 00:00:00</th>\n",
              "      <th>2019-01-01 00:00:00</th>\n",
              "      <th>2019-02-01 00:00:00</th>\n",
              "      <th>2019-03-01 00:00:00</th>\n",
              "      <th>2019-04-01 00:00:00</th>\n",
              "      <th>2019-05-01 00:00:00</th>\n",
              "      <th>2019-06-01 00:00:00</th>\n",
              "      <th>2019-07-01 00:00:00</th>\n",
              "      <th>2019-08-01 00:00:00</th>\n",
              "      <th>2019-09-01 00:00:00</th>\n",
              "      <th>2019-10-01 00:00:00</th>\n",
              "      <th>2019-11-01 00:00:00</th>\n",
              "      <th>2019-12-01 00:00:00</th>\n",
              "      <th>2020-01-01 00:00:00</th>\n",
              "      <th>2020-02-01 00:00:00</th>\n",
              "    </tr>\n",
              "  </thead>\n",
              "  <tbody>\n",
              "    <tr>\n",
              "      <th>1</th>\n",
              "      <td>City of London</td>\n",
              "      <td>E09000001</td>\n",
              "      <td>91449</td>\n",
              "      <td>82202.8</td>\n",
              "      <td>79120.7</td>\n",
              "      <td>77101.2</td>\n",
              "      <td>84409.1</td>\n",
              "      <td>94900.5</td>\n",
              "      <td>110128</td>\n",
              "      <td>112329</td>\n",
              "      <td>104473</td>\n",
              "      <td>108038</td>\n",
              "      <td>117636</td>\n",
              "      <td>127232</td>\n",
              "      <td>108999</td>\n",
              "      <td>93356.7</td>\n",
              "      <td>93706.7</td>\n",
              "      <td>120543</td>\n",
              "      <td>112050</td>\n",
              "      <td>114226</td>\n",
              "      <td>97546.7</td>\n",
              "      <td>114179</td>\n",
              "      <td>108138</td>\n",
              "      <td>98934.2</td>\n",
              "      <td>99706.8</td>\n",
              "      <td>106427</td>\n",
              "      <td>116343</td>\n",
              "      <td>111142</td>\n",
              "      <td>107488</td>\n",
              "      <td>108480</td>\n",
              "      <td>115453</td>\n",
              "      <td>118317</td>\n",
              "      <td>117034</td>\n",
              "      <td>113585</td>\n",
              "      <td>115159</td>\n",
              "      <td>121251</td>\n",
              "      <td>131074</td>\n",
              "      <td>130035</td>\n",
              "      <td>124382</td>\n",
              "      <td>143829</td>\n",
              "      <td>...</td>\n",
              "      <td>818663</td>\n",
              "      <td>811786</td>\n",
              "      <td>820305</td>\n",
              "      <td>820665</td>\n",
              "      <td>853943</td>\n",
              "      <td>906146</td>\n",
              "      <td>939912</td>\n",
              "      <td>930979</td>\n",
              "      <td>854798</td>\n",
              "      <td>847422</td>\n",
              "      <td>836674</td>\n",
              "      <td>818477</td>\n",
              "      <td>790159</td>\n",
              "      <td>778002</td>\n",
              "      <td>802129</td>\n",
              "      <td>783266</td>\n",
              "      <td>740799</td>\n",
              "      <td>732351</td>\n",
              "      <td>796399</td>\n",
              "      <td>789278</td>\n",
              "      <td>809697</td>\n",
              "      <td>784144</td>\n",
              "      <td>800875</td>\n",
              "      <td>802869</td>\n",
              "      <td>764207</td>\n",
              "      <td>811694</td>\n",
              "      <td>865636</td>\n",
              "      <td>894520</td>\n",
              "      <td>853187</td>\n",
              "      <td>738719</td>\n",
              "      <td>718930</td>\n",
              "      <td>761786</td>\n",
              "      <td>738370</td>\n",
              "      <td>795632</td>\n",
              "      <td>792195</td>\n",
              "      <td>827375</td>\n",
              "      <td>778870</td>\n",
              "      <td>739645</td>\n",
              "      <td>748457</td>\n",
              "      <td>730282</td>\n",
              "    </tr>\n",
              "    <tr>\n",
              "      <th>2</th>\n",
              "      <td>Barking &amp; Dagenham</td>\n",
              "      <td>E09000002</td>\n",
              "      <td>50460.2</td>\n",
              "      <td>51085.8</td>\n",
              "      <td>51269</td>\n",
              "      <td>53133.5</td>\n",
              "      <td>53042.2</td>\n",
              "      <td>53700.3</td>\n",
              "      <td>52113.1</td>\n",
              "      <td>52232.2</td>\n",
              "      <td>51471.6</td>\n",
              "      <td>51513.8</td>\n",
              "      <td>50848.7</td>\n",
              "      <td>50945.2</td>\n",
              "      <td>50828.1</td>\n",
              "      <td>51440.7</td>\n",
              "      <td>51907.1</td>\n",
              "      <td>51724</td>\n",
              "      <td>51735.7</td>\n",
              "      <td>50761.4</td>\n",
              "      <td>50621.1</td>\n",
              "      <td>51104.7</td>\n",
              "      <td>51892.7</td>\n",
              "      <td>52533.2</td>\n",
              "      <td>52216</td>\n",
              "      <td>53853.5</td>\n",
              "      <td>54459</td>\n",
              "      <td>55451.5</td>\n",
              "      <td>55004.8</td>\n",
              "      <td>55279.9</td>\n",
              "      <td>54936.9</td>\n",
              "      <td>55286.7</td>\n",
              "      <td>55658.9</td>\n",
              "      <td>56506.7</td>\n",
              "      <td>56306.3</td>\n",
              "      <td>57200.2</td>\n",
              "      <td>57575.3</td>\n",
              "      <td>58025</td>\n",
              "      <td>57559</td>\n",
              "      <td>57360.3</td>\n",
              "      <td>...</td>\n",
              "      <td>285853</td>\n",
              "      <td>285622</td>\n",
              "      <td>282441</td>\n",
              "      <td>280698</td>\n",
              "      <td>278213</td>\n",
              "      <td>280567</td>\n",
              "      <td>286018</td>\n",
              "      <td>289569</td>\n",
              "      <td>291727</td>\n",
              "      <td>290965</td>\n",
              "      <td>292519</td>\n",
              "      <td>293390</td>\n",
              "      <td>293796</td>\n",
              "      <td>292915</td>\n",
              "      <td>291548</td>\n",
              "      <td>292777</td>\n",
              "      <td>291723</td>\n",
              "      <td>291184</td>\n",
              "      <td>290239</td>\n",
              "      <td>294236</td>\n",
              "      <td>294953</td>\n",
              "      <td>295908</td>\n",
              "      <td>296424</td>\n",
              "      <td>299648</td>\n",
              "      <td>302606</td>\n",
              "      <td>301114</td>\n",
              "      <td>297181</td>\n",
              "      <td>293839</td>\n",
              "      <td>293899</td>\n",
              "      <td>295587</td>\n",
              "      <td>295829</td>\n",
              "      <td>295179</td>\n",
              "      <td>299060</td>\n",
              "      <td>300402</td>\n",
              "      <td>305488</td>\n",
              "      <td>304563</td>\n",
              "      <td>306376</td>\n",
              "      <td>301435</td>\n",
              "      <td>303631</td>\n",
              "      <td>298960</td>\n",
              "    </tr>\n",
              "    <tr>\n",
              "      <th>3</th>\n",
              "      <td>Barnet</td>\n",
              "      <td>E09000003</td>\n",
              "      <td>93284.5</td>\n",
              "      <td>93190.2</td>\n",
              "      <td>92247.5</td>\n",
              "      <td>90762.9</td>\n",
              "      <td>90258</td>\n",
              "      <td>90107.2</td>\n",
              "      <td>91441.2</td>\n",
              "      <td>92361.3</td>\n",
              "      <td>93273.1</td>\n",
              "      <td>92567.4</td>\n",
              "      <td>90883.2</td>\n",
              "      <td>91133.9</td>\n",
              "      <td>91111</td>\n",
              "      <td>92429.5</td>\n",
              "      <td>91409.8</td>\n",
              "      <td>92394.2</td>\n",
              "      <td>91058.9</td>\n",
              "      <td>91978.2</td>\n",
              "      <td>92444.1</td>\n",
              "      <td>95516</td>\n",
              "      <td>97489.9</td>\n",
              "      <td>97844.5</td>\n",
              "      <td>97155</td>\n",
              "      <td>97174.3</td>\n",
              "      <td>98558.8</td>\n",
              "      <td>100076</td>\n",
              "      <td>101130</td>\n",
              "      <td>101201</td>\n",
              "      <td>103287</td>\n",
              "      <td>104609</td>\n",
              "      <td>107235</td>\n",
              "      <td>108730</td>\n",
              "      <td>112380</td>\n",
              "      <td>114515</td>\n",
              "      <td>115356</td>\n",
              "      <td>115521</td>\n",
              "      <td>115902</td>\n",
              "      <td>116995</td>\n",
              "      <td>...</td>\n",
              "      <td>526422</td>\n",
              "      <td>522223</td>\n",
              "      <td>532924</td>\n",
              "      <td>540501</td>\n",
              "      <td>549401</td>\n",
              "      <td>543699</td>\n",
              "      <td>544994</td>\n",
              "      <td>531344</td>\n",
              "      <td>527928</td>\n",
              "      <td>526223</td>\n",
              "      <td>537986</td>\n",
              "      <td>544090</td>\n",
              "      <td>541563</td>\n",
              "      <td>538718</td>\n",
              "      <td>531832</td>\n",
              "      <td>531736</td>\n",
              "      <td>538120</td>\n",
              "      <td>541502</td>\n",
              "      <td>533088</td>\n",
              "      <td>524702</td>\n",
              "      <td>523397</td>\n",
              "      <td>533715</td>\n",
              "      <td>534951</td>\n",
              "      <td>537284</td>\n",
              "      <td>535060</td>\n",
              "      <td>533810</td>\n",
              "      <td>528639</td>\n",
              "      <td>523679</td>\n",
              "      <td>516844</td>\n",
              "      <td>512969</td>\n",
              "      <td>504765</td>\n",
              "      <td>512818</td>\n",
              "      <td>515235</td>\n",
              "      <td>528958</td>\n",
              "      <td>527691</td>\n",
              "      <td>525985</td>\n",
              "      <td>522683</td>\n",
              "      <td>519037</td>\n",
              "      <td>518271</td>\n",
              "      <td>526024</td>\n",
              "    </tr>\n",
              "    <tr>\n",
              "      <th>4</th>\n",
              "      <td>Bexley</td>\n",
              "      <td>E09000004</td>\n",
              "      <td>64958.1</td>\n",
              "      <td>64787.9</td>\n",
              "      <td>64367.5</td>\n",
              "      <td>64277.7</td>\n",
              "      <td>63997.1</td>\n",
              "      <td>64252.3</td>\n",
              "      <td>63722.7</td>\n",
              "      <td>64432.6</td>\n",
              "      <td>64509.5</td>\n",
              "      <td>64529.9</td>\n",
              "      <td>63846</td>\n",
              "      <td>63816.9</td>\n",
              "      <td>63996</td>\n",
              "      <td>64503.7</td>\n",
              "      <td>64788</td>\n",
              "      <td>65285.9</td>\n",
              "      <td>65080.7</td>\n",
              "      <td>65119.8</td>\n",
              "      <td>65150.6</td>\n",
              "      <td>65960.2</td>\n",
              "      <td>66500.6</td>\n",
              "      <td>66659.3</td>\n",
              "      <td>66353.8</td>\n",
              "      <td>66486.4</td>\n",
              "      <td>67350.6</td>\n",
              "      <td>67981.2</td>\n",
              "      <td>67823.8</td>\n",
              "      <td>68470.5</td>\n",
              "      <td>69353.5</td>\n",
              "      <td>70764.1</td>\n",
              "      <td>71129.8</td>\n",
              "      <td>72140.7</td>\n",
              "      <td>72830.3</td>\n",
              "      <td>73378.8</td>\n",
              "      <td>73619.6</td>\n",
              "      <td>74630.1</td>\n",
              "      <td>76863.5</td>\n",
              "      <td>78064.9</td>\n",
              "      <td>...</td>\n",
              "      <td>331943</td>\n",
              "      <td>331025</td>\n",
              "      <td>330066</td>\n",
              "      <td>328824</td>\n",
              "      <td>328858</td>\n",
              "      <td>329046</td>\n",
              "      <td>333651</td>\n",
              "      <td>336980</td>\n",
              "      <td>344041</td>\n",
              "      <td>344517</td>\n",
              "      <td>339808</td>\n",
              "      <td>335705</td>\n",
              "      <td>336239</td>\n",
              "      <td>340598</td>\n",
              "      <td>342096</td>\n",
              "      <td>341254</td>\n",
              "      <td>339632</td>\n",
              "      <td>338476</td>\n",
              "      <td>336410</td>\n",
              "      <td>341480</td>\n",
              "      <td>345693</td>\n",
              "      <td>347531</td>\n",
              "      <td>346151</td>\n",
              "      <td>344681</td>\n",
              "      <td>344172</td>\n",
              "      <td>343667</td>\n",
              "      <td>338708</td>\n",
              "      <td>339186</td>\n",
              "      <td>336841</td>\n",
              "      <td>339938</td>\n",
              "      <td>337543</td>\n",
              "      <td>339684</td>\n",
              "      <td>338257</td>\n",
              "      <td>337745</td>\n",
              "      <td>334075</td>\n",
              "      <td>333853</td>\n",
              "      <td>334044</td>\n",
              "      <td>336579</td>\n",
              "      <td>335492</td>\n",
              "      <td>341588</td>\n",
              "    </tr>\n",
              "    <tr>\n",
              "      <th>5</th>\n",
              "      <td>Brent</td>\n",
              "      <td>E09000005</td>\n",
              "      <td>71306.6</td>\n",
              "      <td>72022.3</td>\n",
              "      <td>72015.8</td>\n",
              "      <td>72965.6</td>\n",
              "      <td>73704</td>\n",
              "      <td>74310.5</td>\n",
              "      <td>74127</td>\n",
              "      <td>73547</td>\n",
              "      <td>73789.5</td>\n",
              "      <td>73264.1</td>\n",
              "      <td>72782</td>\n",
              "      <td>72523.7</td>\n",
              "      <td>72806.3</td>\n",
              "      <td>73084.1</td>\n",
              "      <td>72779.8</td>\n",
              "      <td>72369.7</td>\n",
              "      <td>72994.8</td>\n",
              "      <td>73497.6</td>\n",
              "      <td>75551.2</td>\n",
              "      <td>76913.7</td>\n",
              "      <td>78667.1</td>\n",
              "      <td>77990.9</td>\n",
              "      <td>77914.2</td>\n",
              "      <td>78261.6</td>\n",
              "      <td>79664</td>\n",
              "      <td>81213.2</td>\n",
              "      <td>82321.9</td>\n",
              "      <td>82771</td>\n",
              "      <td>82729.7</td>\n",
              "      <td>83876.3</td>\n",
              "      <td>87636.9</td>\n",
              "      <td>90164</td>\n",
              "      <td>91472.6</td>\n",
              "      <td>92208.2</td>\n",
              "      <td>92895.5</td>\n",
              "      <td>94035.6</td>\n",
              "      <td>93746</td>\n",
              "      <td>95171.5</td>\n",
              "      <td>...</td>\n",
              "      <td>502654</td>\n",
              "      <td>490418</td>\n",
              "      <td>472373</td>\n",
              "      <td>475608</td>\n",
              "      <td>484944</td>\n",
              "      <td>488416</td>\n",
              "      <td>490062</td>\n",
              "      <td>492335</td>\n",
              "      <td>491003</td>\n",
              "      <td>498192</td>\n",
              "      <td>490673</td>\n",
              "      <td>489039</td>\n",
              "      <td>485285</td>\n",
              "      <td>494515</td>\n",
              "      <td>493882</td>\n",
              "      <td>493621</td>\n",
              "      <td>482967</td>\n",
              "      <td>485434</td>\n",
              "      <td>480836</td>\n",
              "      <td>492743</td>\n",
              "      <td>505028</td>\n",
              "      <td>519754</td>\n",
              "      <td>510930</td>\n",
              "      <td>493489</td>\n",
              "      <td>479104</td>\n",
              "      <td>476356</td>\n",
              "      <td>479106</td>\n",
              "      <td>478494</td>\n",
              "      <td>475458</td>\n",
              "      <td>486305</td>\n",
              "      <td>482101</td>\n",
              "      <td>474460</td>\n",
              "      <td>472981</td>\n",
              "      <td>487091</td>\n",
              "      <td>500800</td>\n",
              "      <td>494697</td>\n",
              "      <td>432511</td>\n",
              "      <td>429917</td>\n",
              "      <td>425607</td>\n",
              "      <td>479542</td>\n",
              "    </tr>\n",
              "  </tbody>\n",
              "</table>\n",
              "<p>5 rows × 304 columns</p>\n",
              "</div>"
            ],
            "text/plain": [
              "0             Borough    ZipCode  ... 2020-01-01 00:00:00 2020-02-01 00:00:00\n",
              "1      City of London  E09000001  ...              748457              730282\n",
              "2  Barking & Dagenham  E09000002  ...              303631              298960\n",
              "3              Barnet  E09000003  ...              518271              526024\n",
              "4              Bexley  E09000004  ...              335492              341588\n",
              "5               Brent  E09000005  ...              425607              479542\n",
              "\n",
              "[5 rows x 304 columns]"
            ]
          },
          "metadata": {
            "tags": []
          },
          "execution_count": 37
        }
      ]
    },
    {
      "cell_type": "markdown",
      "metadata": {
        "id": "jy8BzXHmoWEw",
        "colab_type": "text"
      },
      "source": [
        "**2.4.Transforming the data**\n",
        "\n",
        "Remember what Wes McKinney said about tidy data? \n",
        "\n",
        "You might need to **melt** your DataFrame here. "
      ]
    },
    {
      "cell_type": "code",
      "metadata": {
        "id": "S2wM0qLuo2Zt",
        "colab_type": "code",
        "colab": {}
      },
      "source": [
        "properties_m=pd.melt(properties,id_vars=['Borough','ZipCode'],var_name='Date')"
      ],
      "execution_count": 0,
      "outputs": []
    },
    {
      "cell_type": "markdown",
      "metadata": {
        "id": "7kIsgAo7o3mf",
        "colab_type": "text"
      },
      "source": [
        "Remember to make sure your column data types are all correct. Average prices, for example, should be floating point numbers... "
      ]
    },
    {
      "cell_type": "code",
      "metadata": {
        "id": "ZcR4IHbcpOaq",
        "colab_type": "code",
        "colab": {}
      },
      "source": [
        "properties_m['Date']=pd.to_datetime(properties_m['Date'])#.index\n",
        "#properties.index"
      ],
      "execution_count": 0,
      "outputs": []
    },
    {
      "cell_type": "code",
      "metadata": {
        "id": "qIPv0VdZQXil",
        "colab_type": "code",
        "colab": {
          "base_uri": "https://localhost:8080/",
          "height": 101
        },
        "outputId": "5b374348-0d4b-40d5-b993-197eea5af1a5"
      },
      "source": [
        "properties_m.head()\n",
        "properties_m.dtypes"
      ],
      "execution_count": 40,
      "outputs": [
        {
          "output_type": "execute_result",
          "data": {
            "text/plain": [
              "Borough            object\n",
              "ZipCode            object\n",
              "Date       datetime64[ns]\n",
              "value              object\n",
              "dtype: object"
            ]
          },
          "metadata": {
            "tags": []
          },
          "execution_count": 40
        }
      ]
    },
    {
      "cell_type": "markdown",
      "metadata": {
        "id": "knLUXHLypOtw",
        "colab_type": "text"
      },
      "source": [
        "**2.5. Cleaning the data (part 3)**\n",
        "\n",
        "Do we have an equal number of observations in the ID, Average Price, Month, and London Borough columns? Remember that there are only 32 London Boroughs. How many entries do you have in that column? \n",
        "\n",
        "Check out the contents of the London Borough column, and if you find null values, get rid of them however you see fit. "
      ]
    },
    {
      "cell_type": "code",
      "metadata": {
        "id": "BnvTW5a3p0fC",
        "colab_type": "code",
        "outputId": "0802c714-d211-41e0-c7cc-3ade4051a1a2",
        "colab": {
          "base_uri": "https://localhost:8080/",
          "height": 202
        }
      },
      "source": [
        "properties_notna = properties_m[properties_m['ZipCode'].notna()]\n",
        "properties_notna.count()\n",
        "properties_notna.info()"
      ],
      "execution_count": 41,
      "outputs": [
        {
          "output_type": "stream",
          "text": [
            "<class 'pandas.core.frame.DataFrame'>\n",
            "Int64Index: 13590 entries, 0 to 14495\n",
            "Data columns (total 4 columns):\n",
            " #   Column   Non-Null Count  Dtype         \n",
            "---  ------   --------------  -----         \n",
            " 0   Borough  13590 non-null  object        \n",
            " 1   ZipCode  13590 non-null  object        \n",
            " 2   Date     13590 non-null  datetime64[ns]\n",
            " 3   value    13590 non-null  object        \n",
            "dtypes: datetime64[ns](1), object(3)\n",
            "memory usage: 530.9+ KB\n"
          ],
          "name": "stdout"
        }
      ]
    },
    {
      "cell_type": "code",
      "metadata": {
        "id": "krgfMsb47nf7",
        "colab_type": "code",
        "outputId": "3f54f105-03a8-4c95-b92b-04bca50b1207",
        "colab": {
          "base_uri": "https://localhost:8080/",
          "height": 202
        }
      },
      "source": [
        "properties_notna['Borough'].unique()"
      ],
      "execution_count": 42,
      "outputs": [
        {
          "output_type": "execute_result",
          "data": {
            "text/plain": [
              "array(['City of London', 'Barking & Dagenham', 'Barnet', 'Bexley',\n",
              "       'Brent', 'Bromley', 'Camden', 'Croydon', 'Ealing', 'Enfield',\n",
              "       'Greenwich', 'Hackney', 'Hammersmith & Fulham', 'Haringey',\n",
              "       'Harrow', 'Havering', 'Hillingdon', 'Hounslow', 'Islington',\n",
              "       'Kensington & Chelsea', 'Kingston upon Thames', 'Lambeth',\n",
              "       'Lewisham', 'Merton', 'Newham', 'Redbridge',\n",
              "       'Richmond upon Thames', 'Southwark', 'Sutton', 'Tower Hamlets',\n",
              "       'Waltham Forest', 'Wandsworth', 'Westminster', 'Inner London',\n",
              "       'Outer London', 'NORTH EAST', 'NORTH WEST', 'YORKS & THE HUMBER',\n",
              "       'EAST MIDLANDS', 'WEST MIDLANDS', 'EAST OF ENGLAND', 'LONDON',\n",
              "       'SOUTH EAST', 'SOUTH WEST', 'England'], dtype=object)"
            ]
          },
          "metadata": {
            "tags": []
          },
          "execution_count": 42
        }
      ]
    },
    {
      "cell_type": "code",
      "metadata": {
        "id": "9iGcu5GNblIc",
        "colab_type": "code",
        "colab": {
          "base_uri": "https://localhost:8080/",
          "height": 101
        },
        "outputId": "5d42e4c9-4b96-49eb-e315-cecfaeddf524"
      },
      "source": [
        "properties_notna.count()"
      ],
      "execution_count": 43,
      "outputs": [
        {
          "output_type": "execute_result",
          "data": {
            "text/plain": [
              "Borough    13590\n",
              "ZipCode    13590\n",
              "Date       13590\n",
              "value      13590\n",
              "dtype: int64"
            ]
          },
          "metadata": {
            "tags": []
          },
          "execution_count": 43
        }
      ]
    },
    {
      "cell_type": "code",
      "metadata": {
        "id": "7RCUxfUPcsDK",
        "colab_type": "code",
        "colab": {
          "base_uri": "https://localhost:8080/",
          "height": 101
        },
        "outputId": "f8536ab3-b026-46ef-94fd-3b86eedab4fb"
      },
      "source": [
        "# A list of non-boroughs. \n",
        "nonBoroughs = ['Inner London', 'Outer London', \n",
        "               'NORTH EAST', 'NORTH WEST', 'YORKS & THE HUMBER', \n",
        "               'EAST MIDLANDS', 'WEST MIDLANDS',\n",
        "              'EAST OF ENGLAND', 'LONDON', 'SOUTH EAST', \n",
        "              'SOUTH WEST', 'England']\n",
        "properties_notna = properties_notna[~properties_notna.Borough.isin(nonBoroughs)]\n",
        "properties_notna.count()"
      ],
      "execution_count": 44,
      "outputs": [
        {
          "output_type": "execute_result",
          "data": {
            "text/plain": [
              "Borough    9966\n",
              "ZipCode    9966\n",
              "Date       9966\n",
              "value      9966\n",
              "dtype: int64"
            ]
          },
          "metadata": {
            "tags": []
          },
          "execution_count": 44
        }
      ]
    },
    {
      "cell_type": "markdown",
      "metadata": {
        "id": "PGEx6mJsp6dG",
        "colab_type": "text"
      },
      "source": [
        "**2.6. Visualizing the data**\n",
        "\n",
        "To visualize the data, why not subset on a particular London Borough? Maybe do a line plot of Month against Average Price?"
      ]
    },
    {
      "cell_type": "code",
      "metadata": {
        "id": "nAg5pT9cqHAR",
        "colab_type": "code",
        "outputId": "b7d4625f-6c72-4c42-f32a-5aa9a90e804a",
        "colab": {
          "base_uri": "https://localhost:8080/",
          "height": 443
        }
      },
      "source": [
        "prop_city_london=properties_notna[properties_notna['Borough']=='City of London']#head()\n",
        "\n",
        "plt.plot(prop_city_london['Date'],prop_city_london['value'])\n",
        "\n",
        "properties_m.head()\n",
        "\n",
        "#prop_city_london.head()"
      ],
      "execution_count": 45,
      "outputs": [
        {
          "output_type": "execute_result",
          "data": {
            "text/html": [
              "<div>\n",
              "<style scoped>\n",
              "    .dataframe tbody tr th:only-of-type {\n",
              "        vertical-align: middle;\n",
              "    }\n",
              "\n",
              "    .dataframe tbody tr th {\n",
              "        vertical-align: top;\n",
              "    }\n",
              "\n",
              "    .dataframe thead th {\n",
              "        text-align: right;\n",
              "    }\n",
              "</style>\n",
              "<table border=\"1\" class=\"dataframe\">\n",
              "  <thead>\n",
              "    <tr style=\"text-align: right;\">\n",
              "      <th></th>\n",
              "      <th>Borough</th>\n",
              "      <th>ZipCode</th>\n",
              "      <th>Date</th>\n",
              "      <th>value</th>\n",
              "    </tr>\n",
              "  </thead>\n",
              "  <tbody>\n",
              "    <tr>\n",
              "      <th>0</th>\n",
              "      <td>City of London</td>\n",
              "      <td>E09000001</td>\n",
              "      <td>1995-01-01</td>\n",
              "      <td>91449</td>\n",
              "    </tr>\n",
              "    <tr>\n",
              "      <th>1</th>\n",
              "      <td>Barking &amp; Dagenham</td>\n",
              "      <td>E09000002</td>\n",
              "      <td>1995-01-01</td>\n",
              "      <td>50460.2</td>\n",
              "    </tr>\n",
              "    <tr>\n",
              "      <th>2</th>\n",
              "      <td>Barnet</td>\n",
              "      <td>E09000003</td>\n",
              "      <td>1995-01-01</td>\n",
              "      <td>93284.5</td>\n",
              "    </tr>\n",
              "    <tr>\n",
              "      <th>3</th>\n",
              "      <td>Bexley</td>\n",
              "      <td>E09000004</td>\n",
              "      <td>1995-01-01</td>\n",
              "      <td>64958.1</td>\n",
              "    </tr>\n",
              "    <tr>\n",
              "      <th>4</th>\n",
              "      <td>Brent</td>\n",
              "      <td>E09000005</td>\n",
              "      <td>1995-01-01</td>\n",
              "      <td>71306.6</td>\n",
              "    </tr>\n",
              "  </tbody>\n",
              "</table>\n",
              "</div>"
            ],
            "text/plain": [
              "              Borough    ZipCode       Date    value\n",
              "0      City of London  E09000001 1995-01-01    91449\n",
              "1  Barking & Dagenham  E09000002 1995-01-01  50460.2\n",
              "2              Barnet  E09000003 1995-01-01  93284.5\n",
              "3              Bexley  E09000004 1995-01-01  64958.1\n",
              "4               Brent  E09000005 1995-01-01  71306.6"
            ]
          },
          "metadata": {
            "tags": []
          },
          "execution_count": 45
        },
        {
          "output_type": "display_data",
          "data": {
            "image/png": "[encoded data removed]",
            "text/plain": [
              "<Figure size 432x288 with 1 Axes>"
            ]
          },
          "metadata": {
            "tags": [],
            "needs_background": "light"
          }
        }
      ]
    },
    {
      "cell_type": "markdown",
      "metadata": {
        "id": "aWTPqSJeqHnC",
        "colab_type": "text"
      },
      "source": [
        "To limit the number of data points you have, you might want to extract the year from every month value your *Month* column. \n",
        "\n",
        "To this end, you *could* apply a ***lambda function***. Your logic could work as follows:\n",
        "1. look through the `Month` column\n",
        "2. extract the year from each individual value in that column \n",
        "3. store that corresponding year as separate column. \n",
        "\n",
        "Whether you go ahead with this is up to you. Just so long as you answer our initial brief: which boroughs of London have seen the greatest house price increase, on average, over the past two decades? "
      ]
    },
    {
      "cell_type": "code",
      "metadata": {
        "id": "e0DF92cyqnu8",
        "colab_type": "code",
        "colab": {}
      },
      "source": [
        "#df['year'], df['month'] = df['date'].dt.year, df['date'].dt.month\n",
        "#df.apply(lambda x: func(x['col1'],x['col2']),axis=1)\n",
        "#properties_notna['Year']=properties_notna.apply(lambda x : x['Date'].dt.year,x['Date'],axis=1)\n",
        "#properties_notna['Year'], properties_notna['Month'] = properties_notna['Date'].dt.year, properties_notna['Date'].dt.month\n",
        "\n",
        "#properties_notna.head()\n",
        "#properties_notna.loc[:, 'Date'] =#properties_notna['Date'].map(lambda x: x.year)\n",
        "pd.options.mode.chained_assignment = None \n",
        "properties_notna['Year']=(properties_notna['Date'].map(lambda x: x.year))\n",
        "\n",
        "#properties_notna['Date'].map(lambda x: x.year)"
      ],
      "execution_count": 0,
      "outputs": []
    },
    {
      "cell_type": "markdown",
      "metadata": {
        "id": "2knuTxAEqoJ4",
        "colab_type": "text"
      },
      "source": [
        "**3. Modeling**\n",
        "\n",
        "Consider creating a function that will calculate a ratio of house prices, comparing the price of a house in 2018 to the price in 1998.\n",
        "\n",
        "Consider calling this function create_price_ratio.\n",
        "\n",
        "You'd want this function to:\n",
        "1. Take a filter of dfg, specifically where this filter constrains the London_Borough, as an argument. For example, one admissible argument should be: dfg[dfg['London_Borough']=='Camden'].\n",
        "2. Get the Average Price for that Borough, for the years 1998 and 2018.\n",
        "4. Calculate the ratio of the Average Price for 1998 divided by the Average Price for 2018.\n",
        "5. Return that ratio.\n",
        "\n",
        "Once you've written this function, you ultimately want to use it to iterate through all the unique London_Boroughs and work out the ratio capturing the difference of house prices between 1998 and 2018.\n",
        "\n",
        "Bear in mind: you don't have to write a function like this if you don't want to. If you can solve the brief otherwise, then great! \n",
        "\n",
        "***Hint***: This section should test the skills you acquired in:\n",
        "- Python Data Science Toolbox - Part One, all modules"
      ]
    },
    {
      "cell_type": "code",
      "metadata": {
        "id": "cKTyr437UgDa",
        "colab_type": "code",
        "colab": {}
      },
      "source": [
        "#2018 to 1998\n",
        "D={}\n",
        "def create_price_ratio(LB):\n",
        "  n=properties_notna[properties_notna['Borough']==LB]\n",
        "  n_98=n[n['Year']==1998]\n",
        "  n_18=n[n['Year']==2018]\n",
        "  return n_18['value'].mean()/n_98['value'].mean()\n",
        "#Create dict for Borough and Price Ratio\n",
        "for i in properties_notna['Borough'].unique():\n",
        "  D[i]=create_price_ratio(i) "
      ],
      "execution_count": 0,
      "outputs": []
    },
    {
      "cell_type": "markdown",
      "metadata": {
        "id": "ReF7u4mtEtca",
        "colab_type": "text"
      },
      "source": [
        ""
      ]
    },
    {
      "cell_type": "markdown",
      "metadata": {
        "id": "NzYUI7FxJpgv",
        "colab_type": "text"
      },
      "source": [
        "\n",
        "\n",
        "### 4. Conclusion\n",
        "What can you conclude? Type out your conclusion below. \n",
        "\n",
        "Look back at your notebook. Think about how you might summarize what you have done, and prepare a quick presentation on it to your mentor at your next meeting. \n",
        "\n",
        "We hope you enjoyed this practical project. It should have consolidated your data hygiene and pandas skills by looking at a real-world problem involving just the kind of dataset you might encounter as a budding data scientist. Congratulations, and looking forward to seeing you at the next step in the course! "
      ]
    },
    {
      "cell_type": "code",
      "metadata": {
        "id": "-ZZPpLGtISuK",
        "colab_type": "code",
        "outputId": "75702654-5260-487b-c990-3b8f7a3c1153",
        "colab": {
          "base_uri": "https://localhost:8080/",
          "height": 336
        }
      },
      "source": [
        "FL=pd.DataFrame(D,index=[0])\n",
        "F=FL.transpose()\n",
        "F.columns=['Ratios 18/98']\n",
        "\n",
        "#print('Outlier:\\n', F[F['Ratios 98/18']<0.30])\n",
        "sorted=F.sort_values('Ratios 18/98',axis=0, ascending=False)\n",
        "print('\\n\\nTop Boroughs with highest change in rent: \\n',sorted.head(15))"
      ],
      "execution_count": 57,
      "outputs": [
        {
          "output_type": "stream",
          "text": [
            "\n",
            "\n",
            "Top Boroughs with highest change in rent: \n",
            "                       Ratios 18/98\n",
            "Hackney                   6.198286\n",
            "Waltham Forest            5.834756\n",
            "Southwark                 5.516485\n",
            "Lewisham                  5.449221\n",
            "Westminster               5.353565\n",
            "Newham                    5.305390\n",
            "City of London            5.301620\n",
            "Haringey                  5.134625\n",
            "Kensington & Chelsea      5.082465\n",
            "Lambeth                   4.957751\n",
            "Camden                    4.935353\n",
            "Barking & Dagenham        4.896619\n",
            "Brent                     4.894554\n",
            "Islington                 4.844048\n",
            "Greenwich                 4.763036\n"
          ],
          "name": "stdout"
        }
      ]
    },
    {
      "cell_type": "code",
      "metadata": {
        "id": "eQZiKr99FdVZ",
        "colab_type": "code",
        "outputId": "b0fd3c28-7e0b-441d-a3c9-5f9465db7f8f",
        "colab": {
          "base_uri": "https://localhost:8080/",
          "height": 861
        }
      },
      "source": [
        "sorted.head(15).plot(kind='bar')\n",
        "F.plot(kind='box') \n",
        "F.plot(kind='hist',stacked=True,bins=24)\n",
        "plt.show()"
      ],
      "execution_count": 58,
      "outputs": [
        {
          "output_type": "display_data",
          "data": {
            "image/png": "[encoded data removed]",
            "text/plain": [
              "<Figure size 432x288 with 1 Axes>"
            ]
          },
          "metadata": {
            "tags": [],
            "needs_background": "light"
          }
        },
        {
          "output_type": "display_data",
          "data": {
            "image/png": "[encoded data removed]",
            "text/plain": [
              "<Figure size 432x288 with 1 Axes>"
            ]
          },
          "metadata": {
            "tags": [],
            "needs_background": "light"
          }
        },
        {
          "output_type": "display_data",
          "data": {
            "image/png": "[encoded data removed]",
            "text/plain": [
              "<Figure size 432x288 with 1 Axes>"
            ]
          },
          "metadata": {
            "tags": [],
            "needs_background": "light"
          }
        }
      ]
    }
  ]
}